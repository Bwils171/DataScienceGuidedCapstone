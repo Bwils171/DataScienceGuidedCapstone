{
 "cells": [
  {
   "cell_type": "code",
   "execution_count": 5,
   "metadata": {},
   "outputs": [],
   "source": [
    "from pprint import pprint\n",
    "import sqlite3 as sql"
   ]
  },
  {
   "cell_type": "code",
   "execution_count": 2,
   "metadata": {},
   "outputs": [],
   "source": [
    "database = 'sqlite_db_pythonsqlite.db'\n",
    "connection = sql.connect(database)"
   ]
  },
  {
   "cell_type": "code",
   "execution_count": 18,
   "metadata": {},
   "outputs": [
    {
     "name": "stdout",
     "output_type": "stream",
     "text": [
      "[('Table Tennis', 180), ('Snooker Table', 240), ('Pool Table', 270)]\n"
     ]
    }
   ],
   "source": [
    "cursor = connection.execute(\n",
    "    '''SELECT rev.name, sum(rev.revenue) as totalrevenue\n",
    "     FROM (SELECT b.facid, name,\n",
    "                CASE WHEN memid = 0 THEN (guestcost*slots)\n",
    "                WHEN memid != 0 THEN (membercost*slots) \n",
    "                END AS revenue\n",
    "            FROM Bookings as b\n",
    "            INNER JOIN Facilities as f\n",
    "            ON b.facid = f.facid) as rev\n",
    "     GROUP BY rev.name\n",
    "     HAVING totalrevenue < 1000\n",
    "     ORDER BY totalrevenue\n",
    "''')\n",
    "results = cursor.fetchall()\n",
    "pprint(results)"
   ]
  },
  {
   "cell_type": "code",
   "execution_count": 28,
   "metadata": {},
   "outputs": [
    {
     "name": "stdout",
     "output_type": "stream",
     "text": [
      "[('Joplette, Janice', '1'),\n",
      " ('Butters, Gerald', '1'),\n",
      " ('Dare, Nancy', '4'),\n",
      " ('Boothe, Tim', '3'),\n",
      " ('Stibbons, Ponder', '6'),\n",
      " ('Owen, Charles', '1'),\n",
      " ('Jones, David', '4'),\n",
      " ('Baker, Anne', '9'),\n",
      " ('Smith, Jack', '1'),\n",
      " ('Bader, Florence', '9'),\n",
      " ('Baker, Timothy', '13'),\n",
      " ('Pinker, David', '13'),\n",
      " ('Genting, Matthew', '5'),\n",
      " ('Mackenzie, Anna', '1'),\n",
      " ('Coplin, Joan', '16'),\n",
      " ('Sarwin, Ramnaresh', '15'),\n",
      " ('Jones, Douglas', '11'),\n",
      " ('Rumney, Henrietta', '20'),\n",
      " ('Worthington-Smyth, Henry', '2'),\n",
      " ('Purview, Millicent', '2'),\n",
      " ('Hunt, John', '30'),\n",
      " ('Crumpet, Erica', '2')]\n"
     ]
    }
   ],
   "source": [
    "cursor = connection.execute(\n",
    "    \"\"\"SELECT surname || ', ' || firstname as membername, recommendedby\n",
    "        FROM Members\n",
    "        WHERE recommendedby != '' \"\"\")\n",
    "results = cursor.fetchall()\n",
    "pprint(results)"
   ]
  },
  {
   "cell_type": "code",
   "execution_count": 46,
   "metadata": {},
   "outputs": [
    {
     "name": "stdout",
     "output_type": "stream",
     "text": [
      "[('Badminton Court', '2012-07-05 09:30:00', 51),\n",
      " ('Badminton Court', '2012-08-01 09:30:00', 132),\n",
      " ('Badminton Court', '2012-09-01 09:00:00', 161),\n",
      " ('Massage Room 1', '2012-07-03 08:00:00', 77),\n",
      " ('Massage Room 1', '2012-08-01 08:00:00', 153),\n",
      " ('Massage Room 1', '2012-09-01 08:30:00', 191),\n",
      " ('Massage Room 2', '2012-07-11 17:00:00', 4),\n",
      " ('Massage Room 2', '2012-08-01 08:30:00', 9),\n",
      " ('Massage Room 2', '2012-09-01 15:30:00', 14),\n",
      " ('Pool Table', '2012-07-03 10:00:00', 103),\n",
      " ('Pool Table', '2012-08-01 08:30:00', 272),\n",
      " ('Pool Table', '2012-09-01 10:00:00', 408),\n",
      " ('Snooker Table', '2012-07-03 19:00:00', 68),\n",
      " ('Snooker Table', '2012-08-01 12:30:00', 154),\n",
      " ('Snooker Table', '2012-09-01 08:30:00', 199),\n",
      " ('Squash Court', '2012-07-04 15:30:00', 23),\n",
      " ('Squash Court', '2012-08-01 14:30:00', 85),\n",
      " ('Squash Court', '2012-09-01 15:00:00', 87),\n",
      " ('Table Tennis', '2012-07-03 11:00:00', 48),\n",
      " ('Table Tennis', '2012-08-01 13:00:00', 143),\n",
      " ('Table Tennis', '2012-09-01 08:30:00', 194),\n",
      " ('Tennis Court 1', '2012-07-04 09:00:00', 65),\n",
      " ('Tennis Court 1', '2012-08-01 15:30:00', 111),\n",
      " ('Tennis Court 1', '2012-09-01 11:00:00', 132),\n",
      " ('Tennis Court 2', '2012-07-07 08:30:00', 41),\n",
      " ('Tennis Court 2', '2012-08-01 09:00:00', 109),\n",
      " ('Tennis Court 2', '2012-09-01 09:30:00', 126)]\n"
     ]
    }
   ],
   "source": [
    "cursor = connection.execute(\n",
    "    \"\"\"SELECT f.name, b.starttime, COUNT(strftime('%m', b.starttime))\n",
    "    FROM Bookings as b\n",
    "    INNER JOIN Facilities as f\n",
    "    ON b.facid = f.facid\n",
    "    WHERE memid != 0\n",
    "    GROUP BY f.name, strftime('%m', b.starttime)\n",
    "    \"\"\")\n",
    "results = cursor.fetchall()\n",
    "pprint(results)"
   ]
  }
 ],
 "metadata": {
  "kernelspec": {
   "display_name": "Python 3",
   "language": "python",
   "name": "python3"
  },
  "language_info": {
   "codemirror_mode": {
    "name": "ipython",
    "version": 3
   },
   "file_extension": ".py",
   "mimetype": "text/x-python",
   "name": "python",
   "nbconvert_exporter": "python",
   "pygments_lexer": "ipython3",
   "version": "3.7.6"
  }
 },
 "nbformat": 4,
 "nbformat_minor": 4
}
